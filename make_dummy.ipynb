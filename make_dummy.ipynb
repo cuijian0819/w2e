{
 "cells": [
  {
   "cell_type": "code",
   "execution_count": null,
   "metadata": {},
   "outputs": [],
   "source": [
    "security_tweets = [\n",
    "        \"Just attended an informative cybersecurity conference on the latest threats and vulnerabilities. #Cybersecurity #Event\",\n",
    "        \"Just attended an informative cybersecurity conference on the latest threats and vulnerabilities. #Cybersecurity #Event\",\n",
    "        \"Stay safe online, folks! Make sure your passwords are strong and regularly updated. #OnlineSecurity\",\n",
    "        \"Breaking News: Data breach at XYZ Corp. Millions of user accounts compromised. #DataBreach\",\n",
    "        \"There's a security drill happening at the office today. It's essential to be prepared for emergencies. #SafetyFirst\",\n",
    "        \"There's a security drill happening at the office today. It's essential to be prepared for emergencies. #SafetyFirst\",\n",
    "        \"Our IT team just patched a critical security vulnerability in our network. Keeping our systems secure. #NetworkSecurity\",\n",
    "        \"In light of recent security threats, we're conducting a company-wide security training session next week. #SecurityAwareness\",\n",
    "        \"Security update: Our new firewall system is now operational, providing enhanced protection against cyber threats. #Firewall\",\n",
    "        \"The city is hosting a disaster preparedness workshop this weekend. Don't miss it if you're in town. #DisasterPrep\",\n",
    "        \"The city is hosting a disaster preparedness workshop this weekend. Don't miss it if you're in town. #DisasterPrep\",\n",
    "        \"Our security team is monitoring the network for any unusual activity. Vigilance is key to keeping our data safe. #NetworkMonitoring\",\n",
    "        \"Stay informed about security best practices. It's everyone's responsibility to protect sensitive information. #InfoSec\",\n",
    "        \"Security Event Alert: Join us at the annual Security Symposium next month for expert insights and solutions. #SecuritySymposium\",\n",
    "        \"Security Event Alert: Join us at the annual Security Symposium next month for expert insights and solutions. #SecuritySymposium\",\n",
    "        \"Safety tip: Always verify the identity of callers claiming to be from your bank or other organizations. #SafetyTips\",\n",
    "        \"An important reminder: Secure your Wi-Fi network with a strong password and encryption. #WiFiSecurity\",\n",
    "        \"The company's physical security measures have been enhanced to restrict access to authorized personnel only. #PhysicalSecurity\",\n",
    "        \"Breaking: Major security incident reported at the city's financial district. Authorities are on the scene. #SecurityIncident\",\n",
    "        \"Breaking: Major security incident reported at the city's financial district. Authorities are on the scene. #SecurityIncident\",\n",
    "        \"Breaking: Major security incident reported at the city's financial district. Authorities are on the scene. #SecurityIncident\",\n",
    "        \"Don't click on suspicious links or download attachments from unknown sources. Stay vigilant against phishing attempts. #Phishing\",\n",
    "        \"Security announcement: The office will be closed tomorrow for a security upgrade. Stay safe and have a great day! #OfficeClosure\",\n",
    "        \"Stay safe on the internet. Regularly update your antivirus software to protect against malware and viruses. #Antivirus\",\n",
    "        \"Security alert: New malware detected. Ensure your devices have the latest antivirus definitions to stay protected. #Malware\",\n",
    "        \"Security alert: New malware detected. Ensure your devices have the latest antivirus definitions to stay protected. #Malware\",\n",
    "        \"It's a good time to review your disaster recovery plan. Preparation is the key to resilience in case of unexpected events. #DisasterRecovery\",\n",
    "        \"Data breach at a major tech company, millions of user records exposed. #DataBreach #Security\",\n",
    "        \"New cybersecurity vulnerability discovered in popular software. #Cybersecurity #Vulnerability\",\n",
    "        \"Government agencies increase surveillance measures in response to security threats. #Surveillance #Security\",\n",
    "        \"Organizations urged to update their security protocols following a recent cyber attack. #CyberAttack #Security\",\n",
    "        \"Security experts warn about the rise in phishing attacks targeting businesses. #Phishing #Security\",\n",
    "        \"Security conference happening this week, featuring talks on the latest threats and defenses. #SecurityConference\",\n",
    "    ]"
   ]
  },
  {
   "cell_type": "code",
   "execution_count": null,
   "metadata": {},
   "outputs": [],
   "source": [
    "import random\n",
    "from datetime import datetime, timedelta\n",
    "import pandas as pd\n",
    "\n",
    "start_date = datetime(2022, 11, 1)\n",
    "end_date = datetime(2022, 11, 30)\n",
    "one_day = timedelta(days=1)\n",
    "\n",
    "current_date = start_date\n",
    "\n",
    "tweet_list, ts_list = [], []\n",
    "while current_date <= end_date:\n",
    "    for i in range(10):\n",
    "        tweet_list.extend(random.sample(security_tweets, 10))\n",
    "    for i in range(100): \n",
    "        random_hour = random.randint(0, 23)\n",
    "        random_minute = random.randint(0, 59)\n",
    "        random_second = random.randint(0, 59)\n",
    "        \n",
    "        random_datetime = current_date.replace(hour=random_hour, minute=random_minute, second=random_second)\n",
    "        ts_list.append(random_datetime)\n",
    "\n",
    "    current_date += one_day"
   ]
  },
  {
   "cell_type": "code",
   "execution_count": null,
   "metadata": {},
   "outputs": [],
   "source": [
    "ts_list = [date.strftime('%Y-%m-%d %H:%M:%S') for date in ts_list]\n",
    "df = pd.DataFrame({\n",
    "    'created_at': ts_list, \n",
    "    'text': tweet_list,\n",
    "    })\n",
    "df.to_excel('dummy_tweets.xlsx', index=False)  # Set index=False to exclude row numbers"
   ]
  },
  {
   "cell_type": "code",
   "execution_count": null,
   "metadata": {},
   "outputs": [],
   "source": []
  }
 ],
 "metadata": {
  "kernelspec": {
   "display_name": "base",
   "language": "python",
   "name": "python3"
  },
  "language_info": {
   "codemirror_mode": {
    "name": "ipython",
    "version": 3
   },
   "file_extension": ".py",
   "mimetype": "text/x-python",
   "name": "python",
   "nbconvert_exporter": "python",
   "pygments_lexer": "ipython3",
   "version": "3.11.4"
  }
 },
 "nbformat": 4,
 "nbformat_minor": 2
}
